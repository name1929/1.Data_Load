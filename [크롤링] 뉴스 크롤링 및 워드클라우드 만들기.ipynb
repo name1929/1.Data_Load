{
 "cells": [
  {
   "cell_type": "markdown",
   "metadata": {},
   "source": [
    "# 뉴스크롤링과 워드 클라우드"
   ]
  },
  {
   "cell_type": "markdown",
   "metadata": {},
   "source": [
    "## 1. 라이브러리 불러오기"
   ]
  },
  {
   "cell_type": "code",
   "execution_count": 1,
   "metadata": {},
   "outputs": [],
   "source": [
    "## bs4모듈에서 BeautifulSoup 함수를 불러온다.\n",
    "from bs4 import BeautifulSoup as bs\n",
    "## URL을 열고 HTML을 읽는 모듈, urllib를 불러온다.\n",
    "import urllib.request\n",
    "from konlpy.tag import Kkma #konlpy : 자바 깔아야함.\n",
    "from konlpy.utils import pprint #한국어 정보처리를 위한 파이썬 패키지\n",
    "from collections import Counter\n",
    "import konlpy\n",
    "import re #정규표현식\n",
    "\n",
    "## URL\n",
    "# URL = 'http://news.naver.com/main/read.nhn?mode=LS2D&mid=shm&sid1=105&sid2=732&oid=015&aid=0003956688'"
   ]
  },
  {
   "cell_type": "markdown",
   "metadata": {},
   "source": [
    "## 2. 함수 생성"
   ]
  },
  {
   "cell_type": "code",
   "execution_count": 2,
   "metadata": {},
   "outputs": [],
   "source": [
    "## 크롤링 함수\n",
    "def get_text(URL):    \n",
    "    source_code_from_URL = urllib.request.urlopen(URL)\n",
    "    '''\n",
    "    해당 웹주소를 열고 Beautifulsoup으로 변수화 시킨다.\n",
    "    BeautifulSoup객체 생성자의 2번재 인자로 'lxml'을 사용해 기존 'html'방식 대식 'lxml'방식으로 파싱하고,\n",
    "    한글이 포함된 기사이기 때문에 encoding을 utf-8 방식을 채용했다.\n",
    "    ''' \n",
    "    soup = bs(source_code_from_URL, 'lxml', from_encoding='utf-8')\n",
    "    text = ''\n",
    "    ## find_all \n",
    "    for t in soup.find_all('div', id=\"articleBodyContents\"):\n",
    "        text = text + str(t.find_all(text=True)) # text =True :텍스트만 나오게 \n",
    "    return text+'\\n'\n",
    "\n",
    "## 메인 함수\n",
    "def main():\n",
    "    for i in range(0, 10):\n",
    "        num = str(3956688 + i)\n",
    "        URL = 'http://news.naver.com/main/read.nhn?mode=LS2D&mid=shm&sid1=105&sid2=732&oid=015&aid=000'+num\n",
    "        print(URL,end=\"=======================================\")\n",
    "        output_file_name = 'naver_crawling_ab.txt'\n",
    "        open_output_file = open(output_file_name, 'w')\n",
    "        result_text = get_text(URL)\n",
    "        result_text = re.sub('[표]', '',result_text)\n",
    "        result_text = re.sub('큐로홀딩스 외국인/기관 매매동향', '',result_text)\n",
    "        result_text = re.sub('한경로보뉴스', '',result_text)\n",
    "        result_text = re.sub('이 기사는 한국경제신문과 씽크풀이 공동 개발한 기사 자동생성', '',result_text)\n",
    "        result_text = re.sub('알고리즘에 의해 실시간으로 작성된 것입니다.  - 기사오류문의 02-3277-9940', '',result_text)\n",
    "        print(result_text)\n",
    "        open_output_file.write(result_text)\n",
    "        open_output_file.close()"
   ]
  },
  {
   "cell_type": "code",
   "execution_count": 3,
   "metadata": {},
   "outputs": [
    {
     "name": "stdout",
     "output_type": "stream",
     "text": [
      "__main__\n",
      "urllib\n"
     ]
    }
   ],
   "source": [
    "print(__name__)\n",
    "print(urllib.__name__)"
   ]
  },
  {
   "cell_type": "markdown",
   "metadata": {},
   "source": [
    "## 3. 파싱"
   ]
  },
  {
   "cell_type": "code",
   "execution_count": 4,
   "metadata": {},
   "outputs": [
    {
     "name": "stdout",
     "output_type": "stream",
     "text": [
      "http://news.naver.com/main/read.nhn?mode=LS2D&mid=shm&sid1=105&sid2=732&oid=015&aid=0003956688=======================================['\\n', ' 본문 내용 ', '\\n', ' TV플레이어 ', '\\n', ' // TV플레이어 ', '\\n', '\\n// flash 오류를 우회하기 위한 함수 추가\\nfunction _flash_removeCallback() {}\\n', '\\n', \"'유니버시티 블록체인 리서치 이니셔티브' 프로젝트 수행\", '고려대 본관. / 사진=한경 DB', '고려대가 글로벌 블록체인 기업 리플(Ripple)과 파트너십을 체결해 관련 전문인력 양성과 연구 프로젝트 수행에 나선다.', '리플은 블록체인을 이용해 저렴하면서 빠른 송금 서비스를 제공하는 회사로 자체 암호토큰 XRP를 이용한 서비스도 제공한다.', '7일 고려대에 따르면 이 대학 정보보호대학원 블록체인보안연구센터는 지난 4일 리플과 장기 연구 프로젝트 ‘유니버시티 블록체인 리서치 이니셔티브(University Blockchain Research Initiative)’ 수행을 위한 파트너십을 맺었다.', '세계 유수의 대학들과 함께 블록체인 및 암호화폐 관련 학문적·기술적 연구를 수행하도록 지원하는 연구 프로젝트다. 이 프로젝트 수행을 위해 리플과 파트너십을 맺은 대학은 MIT(매사추세츠공대) 프린스턴대 스탠퍼드대 등 전세계 17곳으로 국내에서는 고려대가 유일하다.', '파트너십 체결에 따라 고려대 블록체인보안연구센터는 블록체인 합의 알고리즘의 안전성, 스마트 콘트랙트(smart contract)의 안전성 등 블록체인 및 암호화폐에 필요한 보안 기술을 중점적으로 연구하며 리플은 연구 수행에 필요한 재정적·기술적 지원을 제공한다.', '아울러 사회적으로 부족한 블록체인 전문가를 양성하는 효과도 있을 것으로 예상된다.', '에릭 반 밀텐버그 리플 비즈니스 운영 수석부사장은 “‘유니버시티 블록체인 리서치 이니셔티브’는 대학이 블록체인 기술의 혁신에 있어 중요 역할을 할 수 있게 하는 디딤돌이 될 것”이라며 “블록체인 관련 산업체에서 일할 수 있는 인력을 길러내는 효과도 있을 것”이라고 말했다.', '이상진 고려대 정보보호대학원장도 “이번 파트너십 체결과 프로젝트 수행으로 리플의 실제 데이터에 접근해 분석해보는 기회를 갖게 됐다. 실용적인 블록체인 보안기술 개발에 중요한 역할을 할 것으로 기대된다”고 부연했다.', '김봉구 한경닷컴 기자 ', 'kbk9@hankyung.com', '기사제보 및 보도자료 ', 'open@hankyung.com', '[', '한경닷컴 바로가기', '] [', '글방', '] [', '모바일한경 구독신청', '] ', 'ⓒ 한국경제 & ', 'hankyung.com', ', 무단전재 및 재배포 금지\\n\\t', ' // 본문 내용 ', '\\n']\n",
      "\n",
      "http://news.naver.com/main/read.nhn?mode=LS2D&mid=shm&sid1=105&sid2=732&oid=015&aid=0003956689=======================================['\\n', ' 본문 내용 ', '\\n', ' TV플레이어 ', '\\n', ' // TV플레이어 ', '\\n', '\\n// flash 오류를 우회하기 위한 함수 추가\\nfunction _flash_removeCallback() {}\\n', '\\n', '07일 오후 14시 52분 현재 큐로홀딩스는 전 거래일보다 20.0% 오른 1,230원에 거래되고 있다. 주가의 흐름을 살펴보면 1,045원으로 개장해서 장중 한때 1,010원(-1.46%)까지 소폭 밀렸다가 다시 1,250원(+21.95%)까지 상승 반전한 후, 현재는 1,230원(+20.0%)에서 머물면서 장중에 많이 상승한 모습이다.', '◆ 주체별 매매동향', '- 전일 외국인 대량 순매수', '지난 한달을 기준으로 보면 기관이 485주를 순매수했고, 개인들도 11.5만주를 순매수했다.  반면 그동안 외국인은 11.6만주를 순매도했다. 같은 기간 개인의 거래 비중이 95.5%로 가장 높았고, 기관은 거래에 거의 참여하지 않은 것으로 보인다', '더욱이 전일 외국인이 대량 순매수를 하고 있어 투자자들의 관심이 집중되고 있다.', '[]', '', ' ', '[', '한경닷컴 바로가기', '] [', '글방', '] [', '모바일한경 구독신청', '] ', 'ⓒ 한국경제 & ', 'hankyung.com', ', 무단전재 및 재배포 금지\\n\\t', ' // 본문 내용 ', '\\n']\n",
      "\n",
      "http://news.naver.com/main/read.nhn?mode=LS2D&mid=shm&sid1=105&sid2=732&oid=015&aid=0003956690=======================================['\\n', ' 본문 내용 ', '\\n', ' TV플레이어 ', '\\n', ' // TV플레이어 ', '\\n', '\\n// flash 오류를 우회하기 위한 함수 추가\\nfunction _flash_removeCallback() {}\\n', '\\n', '07일 신풍제약우는 장중 상한가에 진입해서, 오후 14시 51분 현재 전 거래일보다 29.93% 오른 8,900원에 거래되고 있다. 주가의 흐름은 6,850원으로 개장해서 장중 한때 6,720원(-1.9%)까지 살짝 밀렸지만, 다시 큰 폭으로 올라서 현재 8,900원(+29.93%)까지 상승하고 있다.', '◆ 거래량 분석', '- 전일 보다 거래량 급증, 거래 폭발. 38.6만주 거래중', '이 종목의 현재까지 거래량은 전일 거래량의 500%를 초과한 수준으로 오늘 거래가 대폭 증가한 모습이다.', '[]신풍제약우 거래량 분석', '◆ 거래원 동향', '- 키움증권, 미래에셋 등 매수 창구 상위에 랭킹', '현재 거래원 동향은 키움증권, 미래에셋, NH투자 등이 매수 상위 목록에 나타나고 있다.', '이 시간 미래에셋이 매수창구상위에 올라있는 종목은 이 종목 이외에도 텔루스, 제이엔케이히터 등이 있다.', '[]신풍제약우 거래원 동향', '', ' ', '[', '한경닷컴 바로가기', '] [', '글방', '] [', '모바일한경 구독신청', '] ', 'ⓒ 한국경제 & ', 'hankyung.com', ', 무단전재 및 재배포 금지\\n\\t', ' // 본문 내용 ', '\\n']\n",
      "\n",
      "http://news.naver.com/main/read.nhn?mode=LS2D&mid=shm&sid1=105&sid2=732&oid=015&aid=0003956691=======================================['\\n', ' 본문 내용 ', '\\n', ' TV플레이어 ', '\\n', ' // TV플레이어 ', '\\n', '\\n// flash 오류를 우회하기 위한 함수 추가\\nfunction _flash_removeCallback() {}\\n', '\\n', '07일 오후 14시 52분 현재 유유제약1우는 전 거래일보다 10.31% 오른 9,840원에 거래되고 있다. 주가의 흐름은 8,950원으로 개장해서 장중 한때 8,850원(-0.78%)까지 살짝 밀렸지만, 다시 큰 폭으로 올라서 현재 9,840원(+10.31%)까지 상승하고 있다.', '◆ 거래원 동향', '- 외국계 증권사 창구의 거래비중 8% 수준', '메릴린치가 매수상위 창구 3위를 기록중이고, 그 외에 키움증권, 미래에셋 등이 매수 창구 상위에 위치하고 있다. 한편, 매도 창구 상위에는 메릴린치가 눈에 띄고 있다.', '지금까지 외국계(추정) 증권사 창구를 통한 거래 비중은 8% 수준이다. 그리고 이 시간 메릴린치가 매수창구상위에 올라있는 종목은 이 종목 이외에도 교보증권, 비즈니스온 등이 있다.', '[]유유제약1우 거래원 동향', '◆ 주체별 매매동향', '- 개인의 거래비중 크게 높음, 비중 96.6% (최근한달)', '지난 한달을 기준으로 보면 개인이 7,930주를 순매수했지만, 외국인은 7,930주를 순매도했다. 기관의 순매수량에는 변동이 없다. 같은 기간 개인의 거래 비중이 96.6%로 가장 높았고, 기관은 거래에 거의 참여하지 않은 것으로 보인다', '[]유유제약1우 외국인/기관 매매동향', '', ' ', '[', '한경닷컴 바로가기', '] [', '글방', '] [', '모바일한경 구독신청', '] ', 'ⓒ 한국경제 & ', 'hankyung.com', ', 무단전재 및 재배포 금지\\n\\t', ' // 본문 내용 ', '\\n']\n",
      "\n",
      "http://news.naver.com/main/read.nhn?mode=LS2D&mid=shm&sid1=105&sid2=732&oid=015&aid=0003956692=======================================\n",
      "\n",
      "http://news.naver.com/main/read.nhn?mode=LS2D&mid=shm&sid1=105&sid2=732&oid=015&aid=0003956693=======================================\n",
      "\n",
      "http://news.naver.com/main/read.nhn?mode=LS2D&mid=shm&sid1=105&sid2=732&oid=015&aid=0003956694=======================================['\\n', ' 본문 내용 ', '\\n', ' TV플레이어 ', '\\n', ' // TV플레이어 ', '\\n', '\\n// flash 오류를 우회하기 위한 함수 추가\\nfunction _flash_removeCallback() {}\\n', '\\n', '07일 오후 14시 57분 현재 POSCO은 전 거래일보다 5.11% 오른 370,500원에 거래되고 있다. 주가의 흐름을 살펴보면 370,000원으로 개장해서 장중 한때 363,000원(+2.98%)까지 비교적 큰 폭으로 조정을 받았지만, 상승 반전해서 현재 370,500원(+5.11%)까지 상승하고 있다.', '◆ 거래량 분석', '- 전일보다 거래량 증가. 22.0만주 거래중', '현재까지 거래량은 22.0만주, 전일 거래량의 131% 수준으로 오늘 거래가 늘어나고 있는 모습이다.', '[]POSCO 거래량 분석', '◆ 최근 분기 실적', '- 2018.1Q, 매출액 15,862십억(+5.2%), 영업이익 1,488십억(+9.0%)', 'POSCO의 2018년 1사분기 매출액은 15,862십억으로 전년동기 대비 5.21% 상승했고, 영업이익은 1,488십억으로 전년동기 대비 9.0% 증가했다. 이 기업은 이번 분기를 포함해서 최근 4분기 연속 영업이익, 당기순이익 흑자를 기록하고 있다.', '이번 분기의 매출액은 지난 3년 중 최대 실적이고, 영업이익은 지난 3년 중 최대 이익으로 투자자들의 관심이 집중되고 있다.', '이 회사의 매출액 증가율과 영업이익 증가율은 각각 코스피 상위 40%, 상위 37%에 랭킹되고 있다.', '[]POSCO 분기실적', '', ' ', '[', '한경닷컴 바로가기', '] [', '글방', '] [', '모바일한경 구독신청', '] ', 'ⓒ 한국경제 & ', 'hankyung.com', ', 무단전재 및 재배포 금지\\n\\t', ' // 본문 내용 ', '\\n']\n",
      "\n",
      "http://news.naver.com/main/read.nhn?mode=LS2D&mid=shm&sid1=105&sid2=732&oid=015&aid=0003956695=======================================['\\n', ' 본문 내용 ', '\\n', ' TV플레이어 ', '\\n', ' // TV플레이어 ', '\\n', '\\n// flash 오류를 우회하기 위한 함수 추가\\nfunction _flash_removeCallback() {}\\n', '\\n', '07일 오후 14시 58분 현재 대신밸런스제3호스팩은 전 거래일 대비 1.17% 오른 2,160원에 거래되고 있다. 대신밸런스제3호스팩은 이날 2일 만에 52주 신고가를 새로 썼다. 주가의 흐름을 살펴보면 2,125원으로 개장해서 장중 한때 2,110원(-1.17%)까지 살짝 밀렸지만, 상승 반전해서 현재 2,160원(+1.17%)까지 소폭 상승하고 있다.', '◆ 거래량 분석', '- 거래 위축, 전일보다 거래량 감소 예상. 47% 수준', '현재까지 거래량은 10.3만주, 전일 거래량의 47% 수준으로 오늘 거래는 다소 침체된 모습이다.', '[]대신밸런스제3호스팩 거래량 분석', '◆ 주체별 매매동향', '- 전일 기관 대량 순매도', '지난 한달을 기준으로 보면 외국인이 3,653주를 순매도했고, 기관도 49.6만주를 순매도했지만, 개인은 오히려 50.0만주를 순매수했다. 같은 기간 이 종목의 거래 비중은 기관과 개인이 각각 41.2%, 58.6%로 비중이 높다.', '한편 기관은 이 종목에 대해서 최근 6일 연속 27.3만주 순매도를 하고 있다. 더욱이 전일 기관이 대량 순매도를 하고 있어 투자자들의 관심이 집중되고 있다.', '[]대신밸런스제3호스팩 외국인/기관 매매동향', '', ' ', '[', '한경닷컴 바로가기', '] [', '글방', '] [', '모바일한경 구독신청', '] ', 'ⓒ 한국경제 & ', 'hankyung.com', ', 무단전재 및 재배포 금지\\n\\t', ' // 본문 내용 ', '\\n']\n",
      "\n",
      "http://news.naver.com/main/read.nhn?mode=LS2D&mid=shm&sid1=105&sid2=732&oid=015&aid=0003956696=======================================['\\n', ' 본문 내용 ', '\\n', ' TV플레이어 ', '\\n', ' // TV플레이어 ', '\\n', '\\n// flash 오류를 우회하기 위한 함수 추가\\nfunction _flash_removeCallback() {}\\n', '\\n', '07일 오후 14시 58분 현재 바이오닉스진은 전 거래일보다 10.04% 오른 10,300원에 거래되고 있다. 주가의 흐름을 살펴보면 9,420원으로 개장해서 장중 한때 9,200원(-1.71%)까지 살짝 밀렸지만, 다시 큰 폭으로 올라서 현재 10,300원(+10.04%)까지 상승하고 있다.', '◆ 주체별 매매동향', '- 최근 3일간 외국인 대량 순매수', '지난 한달을 기준으로 보면 외국인이 2.8만주를 순매수했고, 기관도 4,974주를 순매수했다. 반면 개인들은 3.3만주를 순매도한 것으로 나타났다. 같은 기간 이 종목의 거래비중은 외국인과 개인이 각각 13.5%, 86.2%로 비중이 높다.', '더욱이 최근 3일간 외국인이 대량 순매수를 하고 있어 투자자들의 관심이 집중되고 있다.', '[]바이오닉스진 외국인/기관 매매동향', '', ' ', '[', '한경닷컴 바로가기', '] [', '글방', '] [', '모바일한경 구독신청', '] ', 'ⓒ 한국경제 & ', 'hankyung.com', ', 무단전재 및 재배포 금지\\n\\t', ' // 본문 내용 ', '\\n']\n",
      "\n",
      "http://news.naver.com/main/read.nhn?mode=LS2D&mid=shm&sid1=105&sid2=732&oid=015&aid=0003956697=======================================['\\n', ' 본문 내용 ', '\\n', ' TV플레이어 ', '\\n', ' // TV플레이어 ', '\\n', '\\n// flash 오류를 우회하기 위한 함수 추가\\nfunction _flash_removeCallback() {}\\n', '\\n\\t\\n\\t7일 일본 닛케이225지수(닛케이평균주가)는 전일 대비 197.53포인트(0.87%) 상승한 22,823.26으로 마감했다.', '한경닷컴', '[', '한경닷컴 바로가기', '] [', '글방', '] [', '모바일한경 구독신청', '] ', 'ⓒ 한국경제 & ', 'hankyung.com', ', 무단전재 및 재배포 금지\\n\\t', ' // 본문 내용 ', '\\n']\n",
      "\n"
     ]
    }
   ],
   "source": [
    "if __name__ == '__main__': \n",
    "    main()\n",
    "    \n",
    "#왜 이걸 해놓냐? : 이게 다른 데서는 main으로 실행 안되그로..암튼 나중에 이해 ㄱㄱ\n",
    "## 귀엽네! 함수를 실행한거지.\n",
    "\n",
    "    \n",
    "#내가 실행하고 있는 코드들(?)이 __main__임.\n",
    "#참이면 main()함수를 실행하세요\n",
    "#모듈의 __name__은 __main__이 아니다.\n",
    "\n"
   ]
  },
  {
   "cell_type": "markdown",
   "metadata": {},
   "source": [
    "## 4. 정규표현식으로 정제"
   ]
  },
  {
   "cell_type": "code",
   "execution_count": 5,
   "metadata": {},
   "outputs": [],
   "source": [
    "'''\n",
    "텍스트 정제 모듈\n",
    "특수기호 모두 제거\n",
    "'''\n",
    "## fillter 함수\n",
    "def filter_text(text):\n",
    "    filter_text = re.sub('[a-zA-Z]', '', text)\n",
    "    filter_text = re.sub('[\\{\\}\\[\\]\\/?.,;:|\\)*~`!^\\-_+<>@\\#$%&\\\\\\=\\(\\'\\\"]','',filter_text)\n",
    "    filter_text = re.sub('본문 내용', '',filter_text)\n",
    "    filter_text = re.sub('플레이어', '',filter_text)\n",
    "    filter_text = re.sub('오류를 우회하기 위한 함수 추가', '',filter_text)\n",
    "    filter_text = re.sub('한경닷컴', '',filter_text)\n",
    "    filter_text = re.sub('9 기사제보', '',filter_text)\n",
    "    filter_text = re.sub('및 보도자료', '',filter_text)\n",
    "    filter_text = re.sub('한경닷컴 바로가기', '',filter_text)\n",
    "    filter_text = re.sub('글방', '',filter_text)\n",
    "    filter_text = re.sub('모바일한경 구독신청', '',filter_text)\n",
    "    filter_text = re.sub('ⓒ 한국경제', '',filter_text)\n",
    "    filter_text = re.sub('무단전재 및 재배포 금지', '',filter_text)\n",
    "    filter_text = re.sub('기사오류문의 0232779940', '',filter_text)\n",
    "    filter_text = re.sub('바로가기', '',filter_text)\n",
    "    return filter_text\n",
    "\n",
    "# 메인함수\n",
    "def main():\n",
    "    output_file_name = 'naver_crawling_filter_abc.txt'\n",
    "    input_file_name = 'naver_crawling_ab.txt'\n",
    "    read_file = open(input_file_name, 'r')\n",
    "    write_file = open(output_file_name, 'w')\n",
    "    text = read_file.read()\n",
    "    print(\"---------수정 전---------\")\n",
    "    print(text)\n",
    "    text = filter_text(text)\n",
    "    text.replace(\"본문\", \"\").replace('내용', '').replace('한국경제','').replace('모바일한경 구독신청', '')\n",
    "    print()\n",
    "    print(\"---------수정 후---------\")\n",
    "    print(text)\n",
    "    write_file.write(text+'\\n')\n",
    "    read_file.close()\n",
    "    write_file.close()\n",
    "    return text+'\\n'"
   ]
  },
  {
   "cell_type": "code",
   "execution_count": 6,
   "metadata": {},
   "outputs": [
    {
     "name": "stdout",
     "output_type": "stream",
     "text": [
      "---------수정 전---------\n",
      "['\\n', ' 본문 내용 ', '\\n', ' TV플레이어 ', '\\n', ' // TV플레이어 ', '\\n', '\\n// flash 오류를 우회하기 위한 함수 추가\\nfunction _flash_removeCallback() {}\\n', '\\n\\t\\n\\t7일 일본 닛케이225지수(닛케이평균주가)는 전일 대비 197.53포인트(0.87%) 상승한 22,823.26으로 마감했다.', '한경닷컴', '[', '한경닷컴 바로가기', '] [', '글방', '] [', '모바일한경 구독신청', '] ', 'ⓒ 한국경제 & ', 'hankyung.com', ', 무단전재 및 재배포 금지\\n\\t', ' // 본문 내용 ', '\\n']\n",
      "\n",
      "\n",
      "---------수정 후---------\n",
      "                   7일 일본 닛케이225지수닛케이평균주가는 전일 대비 19753포인트087 상승한 2282326으로 마감했다                       \n",
      "\n"
     ]
    }
   ],
   "source": [
    "if __name__ == '__main__':\n",
    "    main()"
   ]
  },
  {
   "cell_type": "markdown",
   "metadata": {},
   "source": [
    "## 5. 파일로 저장(txt)"
   ]
  },
  {
   "cell_type": "code",
   "execution_count": 7,
   "metadata": {},
   "outputs": [],
   "source": [
    "f = open('naver_crawling_filter_abc.txt')"
   ]
  },
  {
   "cell_type": "markdown",
   "metadata": {},
   "source": [
    "## 번외) 워드클라우드"
   ]
  },
  {
   "cell_type": "code",
   "execution_count": 8,
   "metadata": {},
   "outputs": [
    {
     "name": "stdout",
     "output_type": "stream",
     "text": [
      "pygame 1.9.4\n",
      "Hello from the pygame community. https://www.pygame.org/contribute.html\n"
     ]
    }
   ],
   "source": [
    "from collections import Counter\n",
    "import urllib\n",
    "import random\n",
    "import webbrowser\n",
    "\n",
    "from konlpy.tag import Hannanum\n",
    "from lxml import html\n",
    "import pytagcloud\n",
    "import sys"
   ]
  },
  {
   "cell_type": "code",
   "execution_count": 9,
   "metadata": {},
   "outputs": [],
   "source": [
    "#url open\n",
    "urlopen = urllib.request.urlopen\n",
    "\n",
    "# make random color\n",
    "r = lambda:random.randint(0, 255)\n",
    "color = lambda:(r(), r(), r())\n",
    "\n",
    "# text count\n",
    "def get_tags(text, ntags=50, multiplier=10):\n",
    "    h = Hannanum() #형태소 분리 모듈중의 하나임. hannanum / 트위터에서 나온 모듈도 있다\n",
    "    nouns = h.nouns(text)\n",
    "    count = Counter(nouns)\n",
    "    return [{'color':color(), 'tag':n, 'size':c*multiplier} for n, c in count.most_common(ntags)]\n",
    "\n",
    "# draw cloud\n",
    "def draw_cloud(tags, filename, fontname='Korean NanumGothic', size=(800, 600)):\n",
    "    pytagcloud.create_tag_image(tags, filename, fontname=fontname, size=size)\n",
    "    webbrowser.open(filename)"
   ]
  },
  {
   "cell_type": "code",
   "execution_count": 10,
   "metadata": {},
   "outputs": [],
   "source": [
    "# load file and make wordcloud\n",
    "f = open('naver_crawling_filter_abc.txt')\n",
    "line = f.read()\n",
    "tags = get_tags(line)\n",
    "# draw_cloud(tags, 'wordcloud4.png')"
   ]
  },
  {
   "cell_type": "code",
   "execution_count": 11,
   "metadata": {
    "scrolled": true
   },
   "outputs": [
    {
     "data": {
      "text/plain": [
       "[{'color': (153, 214, 3), 'tag': '7일', 'size': 10},\n",
       " {'color': (2, 171, 29), 'tag': '일본', 'size': 10},\n",
       " {'color': (180, 44, 195), 'tag': '닛케이225지수닛케이평균주가', 'size': 10},\n",
       " {'color': (155, 74, 43), 'tag': '전', 'size': 10},\n",
       " {'color': (140, 135, 106), 'tag': '대비', 'size': 10},\n",
       " {'color': (174, 253, 215), 'tag': '19753포인트087', 'size': 10},\n",
       " {'color': (71, 240, 86), 'tag': '상승', 'size': 10},\n",
       " {'color': (210, 217, 10), 'tag': '2282326', 'size': 10},\n",
       " {'color': (26, 98, 6), 'tag': '마감', 'size': 10}]"
      ]
     },
     "execution_count": 11,
     "metadata": {},
     "output_type": "execute_result"
    }
   ],
   "source": [
    "tags \n",
    "#색이 다양하게 나올 수 있게 위에서 randdit 함수를 사용했음. \n",
    "#size : 단어의 빈도수..count 함수 사용해서 체크함 -> 이걸 이용해서 워드클라우드 그릴 수 있음"
   ]
  },
  {
   "cell_type": "code",
   "execution_count": 12,
   "metadata": {},
   "outputs": [],
   "source": [
    "#워드 클라우드\n",
    "\n",
    "from wordcloud import WordCloud\n",
    "from konlpy.tag import Hannanum, Okt\n",
    "import matplotlib.pyplot as plt\n",
    "\n",
    "def make_cloud(keyworkds, font_path, width=800, height=800):\n",
    "    wordcloud=WordCloud(font_path, width, height)\n",
    "    \n",
    "    h=Okt()\n",
    "    nouns=h.nouns(keywords)\n",
    "    count = Counter(nouns)\n",
    "    \n",
    "    wordcloud = wordcloud.generate_from_frequencies(count)\n",
    "    \n",
    "    array= wordcloud.to_array()\n",
    "    \n",
    "    fig =plt.figure(figsize=(10,10))\n",
    "    plt.imshow(array,interpolation='bilinear')\n",
    "    plt.show()"
   ]
  },
  {
   "cell_type": "markdown",
   "metadata": {},
   "source": [
    "## 번외) 워드클라우드 생성"
   ]
  },
  {
   "cell_type": "code",
   "execution_count": 16,
   "metadata": {},
   "outputs": [
    {
     "data": {
      "image/png": "[encoded data removed]",
      "text/plain": [
       "<Figure size 720x720 with 1 Axes>"
      ]
     },
     "metadata": {},
     "output_type": "display_data"
    }
   ],
   "source": [
    "f = open('naver_crawling_filter_abc.txt')\n",
    "keywords=f.read() # 'f' : 위에 txt파일로 만든 문서\n",
    "make_cloud(keywords, \"c:/Windows/Fonts/malgun.ttf\", 600,600)"
   ]
  }
 ],
 "metadata": {
  "kernelspec": {
   "display_name": "Python 3",
   "language": "python",
   "name": "python3"
  },
  "language_info": {
   "codemirror_mode": {
    "name": "ipython",
    "version": 3
   },
   "file_extension": ".py",
   "mimetype": "text/x-python",
   "name": "python",
   "nbconvert_exporter": "python",
   "pygments_lexer": "ipython3",
   "version": "3.6.5"
  }
 },
 "nbformat": 4,
 "nbformat_minor": 2
}
