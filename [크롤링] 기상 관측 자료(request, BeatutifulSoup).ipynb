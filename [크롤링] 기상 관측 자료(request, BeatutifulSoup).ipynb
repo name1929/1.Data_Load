{
 "cells": [
  {
   "cell_type": "markdown",
   "metadata": {},
   "source": [
    "# 기상 관측자료 크롤링"
   ]
  },
  {
   "cell_type": "markdown",
   "metadata": {},
   "source": [
    "    라이브러리 import \n",
    "    1. request library : 파이썬에는 HTTP 요청을 처리할 수 있는 urllib이라는 모듈이 기본으로 들어 있으나 사용하기 불편함이 있다. \n",
    "    최근에는 사용이 간편한 requests 모듈이 널리 사용되고 있다.\n",
    "    2. 웹 데이터 크롤링 또는 스크래핑을 할 때 사용하는 Python 라이브러리인 Beautiful Soup\n"
   ]
  },
  {
   "cell_type": "code",
   "execution_count": 96,
   "metadata": {},
   "outputs": [],
   "source": [
    "import requests                  \n",
    "from bs4 import BeautifulSoup   "
   ]
  },
  {
   "cell_type": "markdown",
   "metadata": {},
   "source": [
    "    3. 웹 페이지를 가져온 뒤 BeautifulSoup 객체로 만듦\n"
   ]
  },
  {
   "cell_type": "code",
   "execution_count": 97,
   "metadata": {},
   "outputs": [],
   "source": [
    "response = requests.get('http://www.weather.go.kr/weather/observation/currentweather.jsp') # get 요청"
   ]
  },
  {
   "cell_type": "code",
   "execution_count": 98,
   "metadata": {},
   "outputs": [],
   "source": [
    "soup = BeautifulSoup(response.content, 'html.parser')"
   ]
  },
  {
   "cell_type": "code",
   "execution_count": 112,
   "metadata": {},
   "outputs": [
    {
     "data": {
      "text/plain": [
       "[<meta content=\"IE=Edge\" http-equiv=\"X-UA-Compatible\"/>,\n",
       " <title>도시별 현재날씨 &gt; 지상관측자료 &gt; 관측자료 &gt; 날씨 &gt; 기상청 </title>,\n",
       " <link href=\"http://www.kma.go.kr/favicon2.ico\" rel=\"shortcut icon\"/>,\n",
       " <meta content=\"text/html; charset=utf-8\" http-equiv=\"Content-Type\"/>,\n",
       " <link href=\"/share/css/base.css?ver=2018102500\" rel=\"stylesheet\" type=\"text/css\"/>,\n",
       " <link href=\"/share/css/common.css?ver=2018102500\" rel=\"stylesheet\" type=\"text/css\"/>,\n",
       " <link href=\"/share/css/weather-layout.css?ver=2018102500\" rel=\"stylesheet\" type=\"text/css\"/>,\n",
       " <link href=\"/share/css/component.css?ver=20181213\" rel=\"stylesheet\" type=\"text/css\"/>,\n",
       " <link href=\"/share/css/weather-obs.css?ver=2018102500\" rel=\"stylesheet\" type=\"text/css\"/>,\n",
       " <script src=\"/share/js/jquery-1.7.1.min.js\"></script>,\n",
       " <script src=\"/share/js/weather-common.js?ver=2018102500\"></script>,\n",
       " <link href=\"/share/css/warninglayer.css\" rel=\"stylesheet\" type=\"text/css\"/>,\n",
       " <meta content=\"기상청 \" name=\"title\"/>,\n",
       " <meta content=\"기상청\" name=\"author\"/>,\n",
       " <meta content=\"날씨, 기상청\" name=\"keywords\"/>,\n",
       " <meta content=\"기상청 날씨누리입니다.\" name=\"description\"/>,\n",
       " <meta content=\"weather-obs.css\" name=\"content-css\"/>,\n",
       " <meta content=\"../../images/weather/observation/h4_1_1.gif\" name=\"parent-image\"/>,\n",
       " <meta content=\"지상관측자료\" name=\"parent-alt\"/>,\n",
       " <meta content=\"../../images/weather/observation/h5_1_1.gif\" name=\"title-image\"/>,\n",
       " <meta content=\"도시별 현재날씨\" name=\"title-alt\"/>,\n",
       " <meta content=\"/HELP/html/help_sfc001.jsp\" name=\"help-url\"/>,\n",
       " <style type=\"text/css\">\n",
       "         .table_subheader .top_line{background:#dce6ef;font-weight:bold;border:1px solid #c8c8c8; color:#333;}\n",
       "         .table_subheader .nm{background:#dce6ef;font-weight:bold;border:1px solid #c8c8c8; color:#333;}\n",
       "     </style>]"
      ]
     },
     "execution_count": 112,
     "metadata": {},
     "output_type": "execute_result"
    }
   ],
   "source": [
    "soup.head()"
   ]
  },
  {
   "cell_type": "markdown",
   "metadata": {},
   "source": [
    "    인터넷 창에서 fn + F12 누르면 HTML 창이 뜬다. 다음, 'ctrl + shif + c' 누르고 원하는 영역의 소스를 찾는다.\n",
    "    find 함수를 활용해 해당 부분의 내용만 불러온다."
   ]
  },
  {
   "cell_type": "code",
   "execution_count": 100,
   "metadata": {
    "scrolled": false
   },
   "outputs": [],
   "source": [
    "table = soup.find('table', { 'class': 'table_develop3'})"
   ]
  },
  {
   "cell_type": "code",
   "execution_count": 121,
   "metadata": {},
   "outputs": [],
   "source": [
    "# table"
   ]
  },
  {
   "cell_type": "code",
   "execution_count": 102,
   "metadata": {},
   "outputs": [],
   "source": [
    "data = []                            # 데이터를 저장할 리스트 생성\n",
    "for tr in table.find_all('tr'):      # 모든 <tr> 태그를 찾아서 반복(각 지점의 데이터를 가져옴)\n",
    "    tds = list(tr.find_all('td'))    # 모든 <td> 태그를 찾아서 리스트로 만듦 (각 날씨 값을 리스트로 만듦)\n",
    "    for td in tds:                   # <td> 태그 리스트 반복(각 날씨 값을 가져옴)\n",
    "        if td.find('a'):             # <td> 안에 <a> 태그가 있으면(지점인지 확인)\n",
    "            \n",
    "            point = td.find('a').text # <a> 태그 안에서 지점을 가져옴\n",
    "            yeonmoo = tds[1].text\n",
    "            sijeong = tds[2].text\n",
    "            woon = tds[3].text\n",
    "            joong = tds[4].text\n",
    "            temperature = tds[5].text    # <td> 태그 리스트의 여섯 번째(인덱스 5)에서 기온을 가져옴. 현재기온임ㅋㅋ\n",
    "            isl = tds[6].text\n",
    "            che = tds[7].text\n",
    "            rain = tds[8].text\n",
    "            humidity = tds[9].text       # <td> 태그 리스트의 열 번째(인덱스 9)에서 습도를 가져옴\n",
    "            foong = tds[10].text\n",
    "            wind = tds[11].text\n",
    "            hpa = tds[12].text\n",
    "            data.append([point, yeonmoo, sijeong, woon, joong, temperature, isl, che, rain, humidity, foong, wind, hpa])    # data 리스트에 지점, 기온, 습도를 추가"
   ]
  },
  {
   "cell_type": "code",
   "execution_count": 103,
   "metadata": {
    "scrolled": true
   },
   "outputs": [
    {
     "data": {
      "text/plain": [
       "'남해'"
      ]
     },
     "execution_count": 103,
     "metadata": {},
     "output_type": "execute_result"
    }
   ],
   "source": [
    "point # for문 마지막 지점이 '남해'였나보네."
   ]
  },
  {
   "cell_type": "code",
   "execution_count": 125,
   "metadata": {},
   "outputs": [
    {
     "data": {
      "text/plain": [
       "[['서울',\n",
       "  '흐림',\n",
       "  '14.4',\n",
       "  '9',\n",
       "  '7',\n",
       "  '3.1',\n",
       "  '-2.8',\n",
       "  '3.1',\n",
       "  '\\xa0',\n",
       "  '\\xa0',\n",
       "  '65',\n",
       "  '남',\n",
       "  \"writeWindSpeed('1.0', false, '', '', 1);\"],\n",
       " ['백령도',\n",
       "  '약한비단속',\n",
       "  '7.3',\n",
       "  '10',\n",
       "  '8',\n",
       "  '6.1',\n",
       "  '1.2',\n",
       "  '4.6',\n",
       "  '0.0',\n",
       "  '\\xa0',\n",
       "  '71',\n",
       "  '북서',\n",
       "  \"writeWindSpeed('2.0', false, '', '', 1);\"],\n",
       " ['인천',\n",
       "  '이슬비 끝',\n",
       "  '6.4',\n",
       "  '10',\n",
       "  '6',\n",
       "  '2.6',\n",
       "  '0.4',\n",
       "  '-1.2',\n",
       "  '0.0',\n",
       "  '\\xa0',\n",
       "  '86',\n",
       "  '남남서',\n",
       "  \"writeWindSpeed('4.2', false, '', '', 1);\"]]"
      ]
     },
     "execution_count": 125,
     "metadata": {},
     "output_type": "execute_result"
    }
   ],
   "source": [
    "data[0:3]"
   ]
  },
  {
   "cell_type": "markdown",
   "metadata": {},
   "source": [
    "    추출한 리스트로 DataFrame 만들기"
   ]
  },
  {
   "cell_type": "code",
   "execution_count": 105,
   "metadata": {},
   "outputs": [],
   "source": [
    "import pandas as pd\n",
    "data_df = pd.DataFrame(data)"
   ]
  },
  {
   "cell_type": "code",
   "execution_count": 106,
   "metadata": {
    "scrolled": true
   },
   "outputs": [
    {
     "data": {
      "text/html": [
       "<div>\n",
       "<style scoped>\n",
       "    .dataframe tbody tr th:only-of-type {\n",
       "        vertical-align: middle;\n",
       "    }\n",
       "\n",
       "    .dataframe tbody tr th {\n",
       "        vertical-align: top;\n",
       "    }\n",
       "\n",
       "    .dataframe thead th {\n",
       "        text-align: right;\n",
       "    }\n",
       "</style>\n",
       "<table border=\"1\" class=\"dataframe\">\n",
       "  <thead>\n",
       "    <tr style=\"text-align: right;\">\n",
       "      <th></th>\n",
       "      <th>0</th>\n",
       "      <th>1</th>\n",
       "      <th>2</th>\n",
       "      <th>3</th>\n",
       "      <th>4</th>\n",
       "      <th>5</th>\n",
       "      <th>6</th>\n",
       "      <th>7</th>\n",
       "      <th>8</th>\n",
       "      <th>9</th>\n",
       "      <th>10</th>\n",
       "      <th>11</th>\n",
       "      <th>12</th>\n",
       "    </tr>\n",
       "  </thead>\n",
       "  <tbody>\n",
       "    <tr>\n",
       "      <th>0</th>\n",
       "      <td>서울</td>\n",
       "      <td>흐림</td>\n",
       "      <td>14.4</td>\n",
       "      <td>9</td>\n",
       "      <td>7</td>\n",
       "      <td>3.1</td>\n",
       "      <td>-2.8</td>\n",
       "      <td>3.1</td>\n",
       "      <td></td>\n",
       "      <td></td>\n",
       "      <td>65</td>\n",
       "      <td>남</td>\n",
       "      <td>writeWindSpeed('1.0', false, '', '', 1);</td>\n",
       "    </tr>\n",
       "    <tr>\n",
       "      <th>1</th>\n",
       "      <td>백령도</td>\n",
       "      <td>약한비단속</td>\n",
       "      <td>7.3</td>\n",
       "      <td>10</td>\n",
       "      <td>8</td>\n",
       "      <td>6.1</td>\n",
       "      <td>1.2</td>\n",
       "      <td>4.6</td>\n",
       "      <td>0.0</td>\n",
       "      <td></td>\n",
       "      <td>71</td>\n",
       "      <td>북서</td>\n",
       "      <td>writeWindSpeed('2.0', false, '', '', 1);</td>\n",
       "    </tr>\n",
       "    <tr>\n",
       "      <th>2</th>\n",
       "      <td>인천</td>\n",
       "      <td>이슬비 끝</td>\n",
       "      <td>6.4</td>\n",
       "      <td>10</td>\n",
       "      <td>6</td>\n",
       "      <td>2.6</td>\n",
       "      <td>0.4</td>\n",
       "      <td>-1.2</td>\n",
       "      <td>0.0</td>\n",
       "      <td></td>\n",
       "      <td>86</td>\n",
       "      <td>남남서</td>\n",
       "      <td>writeWindSpeed('4.2', false, '', '', 1);</td>\n",
       "    </tr>\n",
       "    <tr>\n",
       "      <th>3</th>\n",
       "      <td>수원</td>\n",
       "      <td>눈 끝남</td>\n",
       "      <td>11.5</td>\n",
       "      <td>9</td>\n",
       "      <td>4</td>\n",
       "      <td>1.3</td>\n",
       "      <td>-0.9</td>\n",
       "      <td>1.3</td>\n",
       "      <td>0.1</td>\n",
       "      <td></td>\n",
       "      <td>85</td>\n",
       "      <td>남남서</td>\n",
       "      <td>writeWindSpeed('0.6', false, '', '', 1);</td>\n",
       "    </tr>\n",
       "    <tr>\n",
       "      <th>4</th>\n",
       "      <td>동두천</td>\n",
       "      <td></td>\n",
       "      <td>18.9</td>\n",
       "      <td></td>\n",
       "      <td></td>\n",
       "      <td>3.2</td>\n",
       "      <td>-8.8</td>\n",
       "      <td>0.4</td>\n",
       "      <td></td>\n",
       "      <td></td>\n",
       "      <td>41</td>\n",
       "      <td>남남동</td>\n",
       "      <td>writeWindSpeed('2.9', false, '', '', 1);</td>\n",
       "    </tr>\n",
       "  </tbody>\n",
       "</table>\n",
       "</div>"
      ],
      "text/plain": [
       "    0      1     2   3  4    5     6     7    8  9   10   11  \\\n",
       "0   서울     흐림  14.4   9  7  3.1  -2.8   3.1          65    남   \n",
       "1  백령도  약한비단속   7.3  10  8  6.1   1.2   4.6  0.0     71   북서   \n",
       "2   인천  이슬비 끝   6.4  10  6  2.6   0.4  -1.2  0.0     86  남남서   \n",
       "3   수원   눈 끝남  11.5   9  4  1.3  -0.9   1.3  0.1     85  남남서   \n",
       "4  동두천         18.9         3.2  -8.8   0.4          41  남남동   \n",
       "\n",
       "                                         12  \n",
       "0  writeWindSpeed('1.0', false, '', '', 1);  \n",
       "1  writeWindSpeed('2.0', false, '', '', 1);  \n",
       "2  writeWindSpeed('4.2', false, '', '', 1);  \n",
       "3  writeWindSpeed('0.6', false, '', '', 1);  \n",
       "4  writeWindSpeed('2.9', false, '', '', 1);  "
      ]
     },
     "execution_count": 106,
     "metadata": {},
     "output_type": "execute_result"
    }
   ],
   "source": [
    "data_df.head()\n",
    "\n",
    "# pd.DataFrame(df.values[:,1:], index=list(df[0]), columns=['기온', '습도'])"
   ]
  },
  {
   "cell_type": "markdown",
   "metadata": {},
   "source": [
    "    DataFrame 인덱싱 : df[0], 괄호 안은 컬럼명이다."
   ]
  },
  {
   "cell_type": "code",
   "execution_count": 107,
   "metadata": {
    "scrolled": true
   },
   "outputs": [
    {
     "data": {
      "text/plain": [
       "0     서울\n",
       "1    백령도\n",
       "2     인천\n",
       "3     수원\n",
       "4    동두천\n",
       "Name: 0, dtype: object"
      ]
     },
     "execution_count": 107,
     "metadata": {},
     "output_type": "execute_result"
    }
   ],
   "source": [
    "data_df[0].head()"
   ]
  },
  {
   "cell_type": "markdown",
   "metadata": {},
   "source": [
    "    DataFrame 인덱싱 : df.loc[0], 괄호 안은 index 이름이다. / df.iloc[0], 괄호 안은 index 순서다."
   ]
  },
  {
   "cell_type": "code",
   "execution_count": 108,
   "metadata": {},
   "outputs": [
    {
     "data": {
      "text/plain": [
       "0      서울\n",
       "1      흐림\n",
       "2    14.4\n",
       "3       9\n",
       "4       7\n",
       "Name: 0, dtype: object"
      ]
     },
     "execution_count": 108,
     "metadata": {},
     "output_type": "execute_result"
    }
   ],
   "source": [
    "data_df.loc[0].head()"
   ]
  },
  {
   "cell_type": "markdown",
   "metadata": {},
   "source": [
    "    index = list(data_df[0]) vs index = data_df[0]"
   ]
  },
  {
   "cell_type": "code",
   "execution_count": 109,
   "metadata": {},
   "outputs": [],
   "source": [
    "data_df = pd.DataFrame(data = data_df.values[:,1:], index = list(data_df[0]), columns = ['현재일기','시정', '운량', '중하운량', '현재기온', '이슬점온도', '체감온도', '일강수', '습도', '풍향', '풍속', '기압' ])"
   ]
  },
  {
   "cell_type": "code",
   "execution_count": 111,
   "metadata": {},
   "outputs": [
    {
     "data": {
      "text/html": [
       "<div>\n",
       "<style scoped>\n",
       "    .dataframe tbody tr th:only-of-type {\n",
       "        vertical-align: middle;\n",
       "    }\n",
       "\n",
       "    .dataframe tbody tr th {\n",
       "        vertical-align: top;\n",
       "    }\n",
       "\n",
       "    .dataframe thead th {\n",
       "        text-align: right;\n",
       "    }\n",
       "</style>\n",
       "<table border=\"1\" class=\"dataframe\">\n",
       "  <thead>\n",
       "    <tr style=\"text-align: right;\">\n",
       "      <th></th>\n",
       "      <th>현재일기</th>\n",
       "      <th>시정</th>\n",
       "      <th>운량</th>\n",
       "      <th>중하운량</th>\n",
       "      <th>현재기온</th>\n",
       "      <th>이슬점온도</th>\n",
       "      <th>체감온도</th>\n",
       "      <th>일강수</th>\n",
       "      <th>습도</th>\n",
       "      <th>풍향</th>\n",
       "      <th>풍속</th>\n",
       "      <th>기압</th>\n",
       "    </tr>\n",
       "  </thead>\n",
       "  <tbody>\n",
       "    <tr>\n",
       "      <th>서울</th>\n",
       "      <td>흐림</td>\n",
       "      <td>14.4</td>\n",
       "      <td>9</td>\n",
       "      <td>7</td>\n",
       "      <td>3.1</td>\n",
       "      <td>-2.8</td>\n",
       "      <td>3.1</td>\n",
       "      <td></td>\n",
       "      <td></td>\n",
       "      <td>65</td>\n",
       "      <td>남</td>\n",
       "      <td>writeWindSpeed('1.0', false, '', '', 1);</td>\n",
       "    </tr>\n",
       "    <tr>\n",
       "      <th>백령도</th>\n",
       "      <td>약한비단속</td>\n",
       "      <td>7.3</td>\n",
       "      <td>10</td>\n",
       "      <td>8</td>\n",
       "      <td>6.1</td>\n",
       "      <td>1.2</td>\n",
       "      <td>4.6</td>\n",
       "      <td>0.0</td>\n",
       "      <td></td>\n",
       "      <td>71</td>\n",
       "      <td>북서</td>\n",
       "      <td>writeWindSpeed('2.0', false, '', '', 1);</td>\n",
       "    </tr>\n",
       "    <tr>\n",
       "      <th>인천</th>\n",
       "      <td>이슬비 끝</td>\n",
       "      <td>6.4</td>\n",
       "      <td>10</td>\n",
       "      <td>6</td>\n",
       "      <td>2.6</td>\n",
       "      <td>0.4</td>\n",
       "      <td>-1.2</td>\n",
       "      <td>0.0</td>\n",
       "      <td></td>\n",
       "      <td>86</td>\n",
       "      <td>남남서</td>\n",
       "      <td>writeWindSpeed('4.2', false, '', '', 1);</td>\n",
       "    </tr>\n",
       "    <tr>\n",
       "      <th>수원</th>\n",
       "      <td>눈 끝남</td>\n",
       "      <td>11.5</td>\n",
       "      <td>9</td>\n",
       "      <td>4</td>\n",
       "      <td>1.3</td>\n",
       "      <td>-0.9</td>\n",
       "      <td>1.3</td>\n",
       "      <td>0.1</td>\n",
       "      <td></td>\n",
       "      <td>85</td>\n",
       "      <td>남남서</td>\n",
       "      <td>writeWindSpeed('0.6', false, '', '', 1);</td>\n",
       "    </tr>\n",
       "    <tr>\n",
       "      <th>동두천</th>\n",
       "      <td></td>\n",
       "      <td>18.9</td>\n",
       "      <td></td>\n",
       "      <td></td>\n",
       "      <td>3.2</td>\n",
       "      <td>-8.8</td>\n",
       "      <td>0.4</td>\n",
       "      <td></td>\n",
       "      <td></td>\n",
       "      <td>41</td>\n",
       "      <td>남남동</td>\n",
       "      <td>writeWindSpeed('2.9', false, '', '', 1);</td>\n",
       "    </tr>\n",
       "  </tbody>\n",
       "</table>\n",
       "</div>"
      ],
      "text/plain": [
       "      현재일기    시정  운량 중하운량 현재기온 이슬점온도  체감온도  일강수 습도  풍향   풍속  \\\n",
       "서울      흐림  14.4   9    7  3.1  -2.8   3.1          65    남   \n",
       "백령도  약한비단속   7.3  10    8  6.1   1.2   4.6  0.0     71   북서   \n",
       "인천   이슬비 끝   6.4  10    6  2.6   0.4  -1.2  0.0     86  남남서   \n",
       "수원    눈 끝남  11.5   9    4  1.3  -0.9   1.3  0.1     85  남남서   \n",
       "동두천         18.9           3.2  -8.8   0.4          41  남남동   \n",
       "\n",
       "                                           기압  \n",
       "서울   writeWindSpeed('1.0', false, '', '', 1);  \n",
       "백령도  writeWindSpeed('2.0', false, '', '', 1);  \n",
       "인천   writeWindSpeed('4.2', false, '', '', 1);  \n",
       "수원   writeWindSpeed('0.6', false, '', '', 1);  \n",
       "동두천  writeWindSpeed('2.9', false, '', '', 1);  "
      ]
     },
     "execution_count": 111,
     "metadata": {},
     "output_type": "execute_result"
    }
   ],
   "source": [
    "data_df.head()"
   ]
  }
 ],
 "metadata": {
  "kernelspec": {
   "display_name": "Python 3",
   "language": "python",
   "name": "python3"
  },
  "language_info": {
   "codemirror_mode": {
    "name": "ipython",
    "version": 3
   },
   "file_extension": ".py",
   "mimetype": "text/x-python",
   "name": "python",
   "nbconvert_exporter": "python",
   "pygments_lexer": "ipython3",
   "version": "3.6.5"
  }
 },
 "nbformat": 4,
 "nbformat_minor": 2
}
